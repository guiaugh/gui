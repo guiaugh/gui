{
  "nbformat": 4,
  "nbformat_minor": 0,
  "metadata": {
    "colab": {
      "name": "Lista 05.ipynb",
      "provenance": [],
      "authorship_tag": "ABX9TyNruP5Qx/n9ETed4864I0n4",
      "include_colab_link": true
    },
    "kernelspec": {
      "name": "python3",
      "display_name": "Python 3"
    }
  },
  "cells": [
    {
      "cell_type": "markdown",
      "metadata": {
        "id": "view-in-github",
        "colab_type": "text"
      },
      "source": [
        "<a href=\"https://colab.research.google.com/github/guiaugh/gui/blob/master/Lista_05.ipynb\" target=\"_parent\"><img src=\"https://colab.research.google.com/assets/colab-badge.svg\" alt=\"Open In Colab\"/></a>"
      ]
    },
    {
      "cell_type": "code",
      "metadata": {
        "colab": {
          "base_uri": "https://localhost:8080/",
          "height": 86
        },
        "id": "-kVXEM3hugAa",
        "outputId": "91c34cfc-e835-4670-87ff-60256bedc332"
      },
      "source": [
        "# Disciplina: Probabilidade e Estatística\n",
        "# Aluno: Guilherme Augusto de Oliveira Rezende\n",
        "# Lista 5\n",
        "#Ex 01-a:\n",
        "'''import statistics\n",
        "lista = [10, 13, 17, 9, 8, 11, 13, 7 ]\n",
        "mediaSimples = statistics.mean(lista)\n",
        "print('A média simples é', mediaSimples)'''\n",
        "#Ex 01-b:\n",
        "'''import statistics\n",
        "lista = [10, 13, 17, 9, 8, 11, 13, 7 ]\n",
        "mediaHarmonica = statistics.harmonic_mean(lista)\n",
        "print('A média harmonica é', round(mediaHarmonica,2))'''\n",
        "#Ex 01-c:\n",
        "'''from scipy.stats.mstats import gmean\n",
        "lista = [10, 13, 17, 9, 8, 11, 13, 7 ]\n",
        "mediaGeo = gmean(lista)\n",
        "print('A média geometrica é', round(mediaGeo,2))'''\n",
        "#Ex 01-d:\n",
        "'''import statistics\n",
        "lista = [10, 13, 17, 9, 8, 11, 13, 7 ]\n",
        "moda = statistics.mode(lista)\n",
        "print('A moda é', moda)'''\n",
        "#Ex 01-e:\n",
        "'''import statistics\n",
        "lista = [10, 13, 17, 9, 8, 11, 13, 7 ]\n",
        "variancia = statistics.variance(lista)\n",
        "print('A variancia é', round(variancia,2))'''\n",
        "#Ex 01-f:\n",
        "'''import statistics\n",
        "lista = [10, 13, 17, 9, 8, 11, 13, 7 ]\n",
        "desvioP = statistics.stdev(lista)\n",
        "print('O desvio Padrao é', round(desvioP,2))'''\n",
        "\n",
        "#Ex 02-a:\n",
        "'''import statistics \n",
        "from scipy.stats.mstats import gmean\n",
        "lista = [67, 75, 63, 72, 77, 78, 81, 77, 80]\n",
        "mediaSimples = statistics.mean(lista)\n",
        "mediaHarmonica = statistics.harmonic_mean(lista)\n",
        "mediaGeo = gmean(lista)\n",
        "print('A média simples é', round(mediaSimples,2))\n",
        "print('A média harmonica é', round(mediaHarmonica,2))\n",
        "print('A média geometrica é', round(mediaGeo,2))'''\n",
        "#Ex 02-b:\n",
        "'''import statistics\n",
        "lista = [67, 75, 63, 72, 77, 78, 81, 77, 80]\n",
        "moda = statistics.mode(lista)\n",
        "print('A moda é', moda)'''\n",
        "#Ex 02-c:\n",
        "'''import statistics\n",
        "lista = [67, 75, 63, 72, 77, 78, 81, 77, 80]\n",
        "mediana = statistics.median(lista)\n",
        "print('A mediana é', round(mediana,2))'''\n",
        "#Ex 02-d:\n",
        "'''import statistics\n",
        "variancia = statistics.variance(lista)\n",
        "print('A variancia é', round(variancia,2))'''\n",
        "#Ex 02-e:\n",
        "'''import statistics\n",
        "desvioP = statistics.stdev(lista)\n",
        "print('O desvio Padrao é', round(desvioP,2))'''\n",
        "\n",
        "#Ex 03:\n",
        "'''lista = [4.0, 4.5, 5.0, 5.0, 5.0, 5.5, 6.0, 6.0, 6.5, 6.5, 6.5, 6.5, 7.0, 7.0, 7.0, 7.0, 7.0, 7.0, 7.5, 8.5, 9.0, 9.0, 9.0, 10.0, 10.0, 10.5, 10.5, 11.0, 12.0, 12.05, 13.0, 13.0]\n",
        "variancia = statistics.variance(lista)\n",
        "print('A variancia é', round(variancia,2))'''\n",
        "\n",
        "#Ex 04-a:\n",
        "'''import statistics\n",
        "lista = [12, 15, 18, 22, 17, 14, 18, 23, 29, 12 ]\n",
        "media = statistics.mean(lista)\n",
        "print(\"A produção média é\", media)'''\n",
        "#Ex 04-b:\n",
        "'''lista = [12, 15, 18, 22, 17, 14, 18, 23, 29, 12 ]\n",
        "mediana = statistics.median(lista)\n",
        "print('A mediana é', round(mediana,2))'''\n",
        "#Ex 04-c:\n",
        "'''lista = [12, 15, 18, 22, 17, 14, 18, 23, 29, 12 ]\n",
        "desvioP = statistics.stdev(lista)\n",
        "print('O desvio Padrao é', round(desvioP,2))'''\n",
        "\n",
        "#Ex 05:\n",
        "'''import statistics \n",
        "from scipy.stats.mstats import gmean\n",
        "lista = []\n",
        "while True:\n",
        "    nota = int(input('Digite as nota dos alunos --entre 0 e 10-- (-999 para sair): '))\n",
        "    if nota == -999:\n",
        "        break\n",
        "    lista.append(nota)\n",
        "mediaSimples = statistics.mean(lista)\n",
        "mediaHarmonica = statistics.harmonic_mean(lista)\n",
        "mediaGeo = gmean(lista)\n",
        "moda = statistics.mode(lista)\n",
        "variancia = statistics.variance(lista)\n",
        "desvioP = statistics.stdev(lista)\n",
        "print('A média simples é', round(mediaSimples,2))\n",
        "print('A média harmonica é', round(mediaHarmonica,2))\n",
        "print('A média geometrica é', round(mediaGeo,2))\n",
        "print('A moda é', moda)\n",
        "print('A variancia é', round(variancia,2))\n",
        "print('O desvio Padrao é', round(desvioP,2))'''\n",
        "\n",
        "#Ex 06\n",
        "'''n1 = float(input(\"Digite a primeira nota (entre 0 e 10): \"))\n",
        "n2 = float(input(\"Digite a segunda nota (entre 0 e 10): \"))\n",
        "n3 = float(input(\"Digite a terceira nota (entre 0 e 10): \"))\n",
        "peso1 = 3 \n",
        "peso2 = 4\n",
        "peso3 = 3\n",
        "n1F = n1*peso1\n",
        "n2F = n2*peso2\n",
        "n3F = n3*peso2\n",
        "notaFinal = (n1F+n2F+n3F)/(peso1*peso2*peso3)\n",
        "print(\"A nota final do aluno é: \",round(notaFinal,2) )'''"
      ],
      "execution_count": 37,
      "outputs": [
        {
          "output_type": "stream",
          "text": [
            "A variancia é 6.44\n"
          ],
          "name": "stdout"
        },
        {
          "output_type": "execute_result",
          "data": {
            "application/vnd.google.colaboratory.intrinsic+json": {
              "type": "string"
            },
            "text/plain": [
              "'n1 = float(input(\"Digite a primeira nota (entre 0 e 10): \"))\\nn2 = float(input(\"Digite a segunda nota (entre 0 e 10): \"))\\nn3 = float(input(\"Digite a terceira nota (entre 0 e 10): \"))\\npeso1 = 3 \\npeso2 = 4\\npeso3 = 3\\nn1F = n1*peso1\\nn2F = n2*peso2\\nn3F = n3*peso2\\nnotaFinal = (n1F+n2F+n3F)/(peso1*peso2*peso3)\\nprint(\"A nota final do aluno é: \",round(notaFinal,2) )'"
            ]
          },
          "metadata": {
            "tags": []
          },
          "execution_count": 37
        }
      ]
    }
  ]
}