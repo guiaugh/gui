{
  "nbformat": 4,
  "nbformat_minor": 0,
  "metadata": {
    "colab": {
      "name": "Lista04.ipynb",
      "provenance": [],
      "collapsed_sections": [],
      "authorship_tag": "ABX9TyPrdVTi8iS8CBLWID1kYpEG",
      "include_colab_link": true
    },
    "kernelspec": {
      "name": "python3",
      "display_name": "Python 3"
    }
  },
  "cells": [
    {
      "cell_type": "markdown",
      "metadata": {
        "id": "view-in-github",
        "colab_type": "text"
      },
      "source": [
        "<a href=\"https://colab.research.google.com/github/guiaugh/gui/blob/master/Lista04.ipynb\" target=\"_parent\"><img src=\"https://colab.research.google.com/assets/colab-badge.svg\" alt=\"Open In Colab\"/></a>"
      ]
    },
    {
      "cell_type": "code",
      "metadata": {
        "colab": {
          "base_uri": "https://localhost:8080/"
        },
        "id": "8n0OwmIT4R50",
        "outputId": "42e14f15-ef0b-4e98-f3c8-e2ae0319cc92"
      },
      "source": [
        "#Disciplina: Probabilidade e Estatística\n",
        "#Aluno: Guilherme Augusto de Oliveira Rezende\n",
        "#Lista 04\n",
        "'''#Ex 01: \n",
        "#criando a variavel e pedindo para inputar os valores\n",
        "numeroLado = int(input(\"Escreva a quantidade de lados de um poligono: \"))\n",
        "medidaLado = int(input(\"Escreva a medida do lado desse poligono: \"))\n",
        "#verificaçao para se colocarem numero menor que 3 ou maior que 5 e pedir novamente\n",
        "if numeroLado<3 or numeroLado>5:\n",
        "  while True :\n",
        "    numeroLado = int(input(\"Escreva a quantidade de lados de um poligono: \"))\n",
        "    medidaLado = int(input(\"Escreva a medida do lado desse poligono: \"))\n",
        "    #quando colocarem o numero correto ele entra no if e o break passa para o proximo\n",
        "    if numeroLado>=3 and numeroLado<=5:\n",
        "      break\n",
        "#agora o if ira ver qual numero foi inputado e trazer suas respostas\n",
        "if numeroLado == 4 : \n",
        "  area = medidaLado*medidaLado\n",
        "  print(\"QUADRADO, e sua área é \", area)\n",
        "elif numeroLado == 3 : \n",
        "  altura = int(input(\"Escreva a altura do Triangulo: \"))\n",
        "  area = (medidaLado*altura)/2\n",
        "  print(\"TRIANGULO, e sua área é \", area)\n",
        "elif numeroLado == 5 : \n",
        "  print(\"PENTÁGONO\")'''\n",
        "\n",
        "'''#Ex 02:\n",
        "numeroLado = int(input(\"Escreva a quantidade de lados de um poligono: \"))\n",
        "medidaLado = int(input(\"Escreva a medida do lado desse poligono: \"))\n",
        "if numeroLado<3 or numeroLado>5:\n",
        "  while True :\n",
        "    #o que muda da 01 é que esse if vai ver se é menor que 3 ou maior que 5 e colocar a mensagem correspondente\n",
        "    if numeroLado<3 : \n",
        "      print(\"NÃO É UM POLÍGONO\")\n",
        "    elif numeroLado>5:\n",
        "      print(\"POLÍGONO NÃO IDENTIFICADO\")\n",
        "    numeroLado = int(input(\"Escreva a quantidade de lados de um poligono: \"))\n",
        "    medidaLado = int(input(\"Escreva a medida do lado desse poligono: \"))\n",
        "    \n",
        "    if numeroLado>=3 and numeroLado<=5:\n",
        "      break\n",
        "\n",
        "if numeroLado == 4 : \n",
        "  area = medidaLado*medidaLado\n",
        "  print(\"QUADRADO, e sua área é \", area)\n",
        "elif numeroLado == 3 : \n",
        "  altura = int(input(\"Escreva a altura do Triangulo: \"))\n",
        "  area = (medidaLado*altura)/2\n",
        "  print(\"TRIANGULO, e sua área é \", area)\n",
        "elif numeroLado == 5 : \n",
        "  print(\"PENTÁGONO\")'''\n",
        "\n",
        "'''#Ex 03: \n",
        "print(\"Escreva Três números \")\n",
        "#declarei lista que e onde os numeros vao ser alocados\n",
        "lista = []\n",
        "#usei esse qtn para ser meu limitador e pedir somente 3 numeros\n",
        "qtn = 3\n",
        "#usei o for para ir pedindo os numeros, junto com o range que começa no 0 e usa o limitador que coloquei\n",
        "for n in range(0,int(qtn)): \n",
        "  #append coloca o numero digitado dentro da lista\n",
        "    lista.append(int(input('Digite o número: ')))\n",
        "#max mostra o maior numero digitado\n",
        "print(\"O maior número digitado foi : \", max(lista))'''\n",
        "\n",
        "'''#Ex 04: \n",
        "ladoUm = int(input(\"Escreva um lado do triangulo: \"))\n",
        "ladoDois = int(input(\"Escreva um lado do triangulo: \"))\n",
        "ladoTres = int(input(\"Escreva um lado do triangulo: \"))\n",
        "#se todos os lados forem iguais\n",
        "if ladoUm==ladoDois and ladoDois==ladoTres :\n",
        "   print(\"Triangulo equilatero.\")\n",
        "#se um lado for diferente \n",
        "elif ladoUm==ladoDois or ladoDois==ladoTres or ladoTres==ladoUm :\n",
        "   print(\"Triangulo isosceles.\")\n",
        "#else pois se nao for nenhum de cima, é ele\n",
        "else:\n",
        "   print(\"Triangulo escaleno.\")'''\n",
        "  \n",
        "'''#Ex 06:\n",
        "x = int(input(\"Escreva um número\"))\n",
        "y = 0\n",
        "while y<=x:\n",
        "  print(y)\n",
        "  y=y+1'''\n",
        "\n",
        "'''#Ex 07:\n",
        "num = int(input('Insira um número entre 1 e 4: '))\n",
        "#validando se é menor que 1 ou maior que 4 e fazendo um loop ate digitar um numero entre 1 e 4\n",
        "while num<1 or num>4:\n",
        "  print('Número inválido!')\n",
        "  num = int(input('Insira um número entre 1 e 4: '))\n",
        "  if num>=1 and num<=4:\n",
        "    break\n",
        "print(num)'''\n",
        "\n",
        "'''#Ex 08: \n",
        "lista = []\n",
        "while True:\n",
        "    numero = int(input('Digite um número (0 para sair): '))\n",
        "    if numero == 0:\n",
        "        break\n",
        "    lista.append(numero)\n",
        "\n",
        "print ('O maior número digitado foi: ',max(lista))  '''"
      ],
      "execution_count": 98,
      "outputs": [
        {
          "output_type": "stream",
          "text": [
            "Digite um número (0 para sair): 9\n",
            "Digite um número (0 para sair): 5\n",
            "Digite um número (0 para sair): 7\n",
            "Digite um número (0 para sair): 6\n",
            "Digite um número (0 para sair): 5\n",
            "Digite um número (0 para sair): 25\n",
            "Digite um número (0 para sair): 3\n",
            "Digite um número (0 para sair): 6\n",
            "Digite um número (0 para sair): 1000\n",
            "Digite um número (0 para sair): 25\n",
            "Digite um número (0 para sair): 6554\n",
            "Digite um número (0 para sair): 225\n",
            "Digite um número (0 para sair): 0\n",
            "O maior número digitado foi:  6554\n"
          ],
          "name": "stdout"
        }
      ]
    },
    {
      "cell_type": "code",
      "metadata": {
        "id": "5KJlsKsL1YfX"
      },
      "source": [
        ""
      ],
      "execution_count": null,
      "outputs": []
    }
  ]
}