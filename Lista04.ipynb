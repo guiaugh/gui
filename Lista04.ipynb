{
  "nbformat": 4,
  "nbformat_minor": 0,
  "metadata": {
    "colab": {
      "name": "Lista04.ipynb",
      "provenance": [],
      "collapsed_sections": [],
      "authorship_tag": "ABX9TyNDx/IbBaeUSeVd/fYBf6rU",
      "include_colab_link": true
    },
    "kernelspec": {
      "name": "python3",
      "display_name": "Python 3"
    }
  },
  "cells": [
    {
      "cell_type": "markdown",
      "metadata": {
        "id": "view-in-github",
        "colab_type": "text"
      },
      "source": [
        "<a href=\"https://colab.research.google.com/github/guiaugh/gui/blob/master/Lista04.ipynb\" target=\"_parent\"><img src=\"https://colab.research.google.com/assets/colab-badge.svg\" alt=\"Open In Colab\"/></a>"
      ]
    },
    {
      "cell_type": "code",
      "metadata": {
        "colab": {
          "base_uri": "https://localhost:8080/",
          "height": 154
        },
        "id": "8n0OwmIT4R50",
        "outputId": "c453efd9-c3ee-4453-acbf-9ff590ce0feb"
      },
      "source": [
        "#Disciplina: Probabilidade e Estatística\n",
        "#Aluno: Guilherme Augusto de Oliveira Rezende\n",
        "#Lista 04\n",
        "#Ex 01: \n",
        "'''#criando a variavel e pedindo para inputar os valores\n",
        "numeroLado = int(input(\"Escreva a quantidade de lados de um poligono: \"))\n",
        "medidaLado = int(input(\"Escreva a medida do lado desse poligono: \"))\n",
        "#verificaçao para se colocarem numero menor que 3 ou maior que 5 e pedir novamente\n",
        "if numeroLado<3 or numeroLado>5:\n",
        "  while True :\n",
        "    numeroLado = int(input(\"Escreva a quantidade de lados de um poligono: \"))\n",
        "    medidaLado = int(input(\"Escreva a medida do lado desse poligono: \"))\n",
        "    #quando colocarem o numero correto ele entra no if e o break passa para o proximo\n",
        "    if numeroLado>=3 and numeroLado<=5:\n",
        "      break\n",
        "#agora o if ira ver qual numero foi inputado e trazer suas respostas\n",
        "if numeroLado == 4 : \n",
        "  area = medidaLado*medidaLado\n",
        "  print(\"QUADRADO, e sua área é \", area)\n",
        "elif numeroLado == 3 : \n",
        "  altura = int(input(\"Escreva a altura do Triangulo: \"))\n",
        "  area = (medidaLado*altura)/2\n",
        "  print(\"TRIANGULO, e sua área é \", area)\n",
        "elif numeroLado == 5 : \n",
        "  print(\"PENTÁGONO\")'''\n",
        "\n",
        "#Ex 02:\n",
        "'''numeroLado = int(input(\"Escreva a quantidade de lados de um poligono: \"))\n",
        "medidaLado = int(input(\"Escreva a medida do lado desse poligono: \"))\n",
        "if numeroLado<3 or numeroLado>5:\n",
        "  while True :\n",
        "    #o que muda da 01 é que esse if vai ver se é menor que 3 ou maior que 5 e colocar a mensagem correspondente\n",
        "    if numeroLado<3 : \n",
        "      print(\"NÃO É UM POLÍGONO\")\n",
        "    elif numeroLado>5:\n",
        "      print(\"POLÍGONO NÃO IDENTIFICADO\")\n",
        "    numeroLado = int(input(\"Escreva a quantidade de lados de um poligono: \"))\n",
        "    medidaLado = int(input(\"Escreva a medida do lado desse poligono: \"))\n",
        "    \n",
        "    if numeroLado>=3 and numeroLado<=5:\n",
        "      break\n",
        "\n",
        "if numeroLado == 4 : \n",
        "  area = medidaLado*medidaLado\n",
        "  print(\"QUADRADO, e sua área é \", area)\n",
        "elif numeroLado == 3 : \n",
        "  altura = int(input(\"Escreva a altura do Triangulo: \"))\n",
        "  area = (medidaLado*altura)/2\n",
        "  print(\"TRIANGULO, e sua área é \", area)\n",
        "elif numeroLado == 5 : \n",
        "  print(\"PENTÁGONO\")'''\n",
        "\n",
        "#Ex 03: \n",
        "'''print(\"Escreva Três números \")\n",
        "#declarei lista que e onde os numeros vao ser alocados\n",
        "lista = []\n",
        "#usei esse qtn para ser meu limitador e pedir somente 3 numeros\n",
        "qtn = 3\n",
        "#usei o for para ir pedindo os numeros, junto com o range que começa no 0 e usa o limitador que coloquei\n",
        "for n in range(0,int(qtn)): \n",
        "  #append coloca o numero digitado dentro da lista\n",
        "    lista.append(int(input('Digite o número: ')))\n",
        "#max mostra o maior numero digitado\n",
        "print(\"O maior número digitado foi : \", max(lista))'''\n",
        "\n",
        "#Ex 04: \n",
        "'''ladoUm = int(input(\"Escreva um lado do triangulo: \"))\n",
        "ladoDois = int(input(\"Escreva um lado do triangulo: \"))\n",
        "ladoTres = int(input(\"Escreva um lado do triangulo: \"))\n",
        "#se todos os lados forem iguais\n",
        "if ladoUm==ladoDois and ladoDois==ladoTres :\n",
        "   print(\"Triangulo equilatero.\")\n",
        "#se um lado for diferente \n",
        "elif ladoUm==ladoDois or ladoDois==ladoTres or ladoTres==ladoUm :\n",
        "   print(\"Triangulo isosceles.\")\n",
        "#else pois se nao for nenhum de cima, é ele\n",
        "else:\n",
        "   print(\"Triangulo escaleno.\")'''\n",
        "\n",
        "#Ex 05:\n",
        "'''anguloUm = int(input(\"Escreva um angulo do triangulo: \"))\n",
        "anguloDois = int(input(\"Escreva outro angulo do triangulo: \"))\n",
        "anguloTres = int(input(\"Escreva outro angulo do triangulo: \"))\n",
        "if anguloUm==90 or anguloDois==90 or anguloTres==90 :\n",
        "   print(\"Triangulo Retângulo.\")\n",
        "elif anguloUm>=90 or anguloDois>=90 or anguloTres>=90 :\n",
        "   print(\"Triangulo Obtusângulo.\")\n",
        "else:\n",
        "   print(\"Triangulo Acutângulo.\")'''\n",
        "  \n",
        "#Ex 06:\n",
        "'''x = int(input(\"Escreva um número\"))\n",
        "y = 0\n",
        "while y<=x:\n",
        "  print(y)\n",
        "  y=y+1'''\n",
        "\n",
        "#Ex 07:\n",
        "'''num = int(input('Insira um número entre 1 e 4: '))\n",
        "#validando se é menor que 1 ou maior que 4 e fazendo um loop ate digitar um numero entre 1 e 4\n",
        "while num<1 or num>4:\n",
        "  print('Número inválido!')\n",
        "  num = int(input('Insira um número entre 1 e 4: '))\n",
        "  if num>=1 and num<=4:\n",
        "    break\n",
        "print(num)'''\n",
        "\n",
        "#Ex 08: \n",
        "'''#criei a lista que vai receber o numeros para apontar o maior\n",
        "lista = []\n",
        "#while para fazer um loop e ir pedindo os numeros \n",
        "while True:\n",
        "    numero = int(input('Digite um número (0 para sair): '))\n",
        "    # se o numero for igual a 0 ele para e vai para fora\n",
        "    if numero == 0:\n",
        "        break\n",
        "        #inclui o numero a lista \n",
        "    lista.append(numero)\n",
        "#max mostra qual maior numero\n",
        "print ('O maior número digitado foi: ',max(lista))  '''"
      ],
      "execution_count": 102,
      "outputs": [
        {
          "output_type": "stream",
          "text": [
            "Escreva um angulo do triangulo: 10\n",
            "Escreva outro angulo do triangulo: 50\n",
            "Escreva outro angulo do triangulo: 120\n",
            "Triangulo Obtusângulo.\n"
          ],
          "name": "stdout"
        },
        {
          "output_type": "execute_result",
          "data": {
            "application/vnd.google.colaboratory.intrinsic+json": {
              "type": "string"
            },
            "text/plain": [
              "\"#Ex 08: \\n#criei a lista que vai receber o numeros para apontar o maior\\nlista = []\\n#while para fazer um loop e ir pedindo os numeros \\nwhile True:\\n    numero = int(input('Digite um número (0 para sair): '))\\n    # se o numero for igual a 0 ele para e vai para fora\\n    if numero == 0:\\n        break\\n        #inclui o numero a lista \\n    lista.append(numero)\\n#max mostra qual maior numero\\nprint ('O maior número digitado foi: ',max(lista))  \""
            ]
          },
          "metadata": {
            "tags": []
          },
          "execution_count": 102
        }
      ]
    },
    {
      "cell_type": "code",
      "metadata": {
        "id": "5KJlsKsL1YfX"
      },
      "source": [
        ""
      ],
      "execution_count": null,
      "outputs": []
    }
  ]
}